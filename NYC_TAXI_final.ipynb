{
 "cells": [
  {
   "cell_type": "markdown",
   "metadata": {},
   "source": [
    "## Prepare all the tools we need\n",
    "Basically we are working with .csv file and pandas"
   ]
  },
  {
   "cell_type": "code",
   "execution_count": 1,
   "metadata": {},
   "outputs": [],
   "source": [
    "import csv, sqlite3 \n",
    "import pandas as pd # import pandas library\n",
    "from datetime import date\n",
    "import json\n",
    "import math\n",
    "from plotly import __version__ \n",
    "#from plotly.offline import download_plotlyjs，init_notebook_mode，plot，iplot \n",
    "#init_notebook_mode（connected = True）\n",
    "import matplotlib.pyplot as plt\n",
    "import numpy as np"
   ]
  },
  {
   "cell_type": "markdown",
   "metadata": {},
   "source": [
    "## Import data : June 2019"
   ]
  },
  {
   "cell_type": "code",
   "execution_count": 2,
   "metadata": {},
   "outputs": [],
   "source": [
    "csv_file = 'yellow_tripdata_2019-06.csv'"
   ]
  },
  {
   "cell_type": "markdown",
   "metadata": {},
   "source": [
    "## Filter date \n",
    "To make everything easy, we filter 6/1 from june"
   ]
  },
  {
   "cell_type": "code",
   "execution_count": 24,
   "metadata": {},
   "outputs": [],
   "source": [
    "df = pd.read_csv(csv_file, low_memory=False)\n",
    "df_master = df\n",
    "df['tpep_pickup_datetime'] = pd.DatetimeIndex(df['tpep_pickup_datetime'])\n",
    "df = df.set_index('tpep_pickup_datetime')\n",
    "date_from = pd.Timestamp('2019-06-01 00:00:00')\n",
    "date_to = pd.Timestamp('2019-06-01 23:59:59')\n",
    "df = df[(df.index > date_from ) & (df.index < date_to)]\n",
    "#df = df.sort_index()\n",
    "df.to_csv('0601.csv')"
   ]
  },
  {
   "cell_type": "markdown",
   "metadata": {},
   "source": [
    "## Gat heat map data of all rides\n",
    "We use this data to make the ambient video"
   ]
  },
  {
   "cell_type": "code",
   "execution_count": 25,
   "metadata": {},
   "outputs": [
    {
     "name": "stderr",
     "output_type": "stream",
     "text": [
      "/anaconda3/lib/python3.7/site-packages/ipykernel_launcher.py:8: FutureWarning:\n",
      "\n",
      "The signature of `Series.to_csv` was aligned to that of `DataFrame.to_csv`, and argument 'header' will change its default value from False to True: please pass an explicit value to suppress this warning.\n",
      "\n",
      "/anaconda3/lib/python3.7/site-packages/ipykernel_launcher.py:17: FutureWarning:\n",
      "\n",
      "The signature of `Series.to_csv` was aligned to that of `DataFrame.to_csv`, and argument 'header' will change its default value from False to True: please pass an explicit value to suppress this warning.\n",
      "\n"
     ]
    }
   ],
   "source": [
    "df= pd.read_csv('0601.csv', low_memory=False)\n",
    "#pickup_heatmap\n",
    "df_PU = df\n",
    "df_PU['tpep_pickup_datetime'] = pd.DatetimeIndex(df_PU['tpep_pickup_datetime'])\n",
    "df_PU = df_PU.set_index('tpep_pickup_datetime')\n",
    "df_PU = df_PU.groupby([pd.Grouper(level=0, freq='H'),'PULocationID'])\n",
    "df_PU_N = df_PU['PULocationID'].agg(\"size\")\n",
    "df_PU_N.to_csv('PU_heatmap.csv')\n",
    "\n",
    "#dropoff_heatmap\n",
    "df_DO = df\n",
    "df_DO['tpep_dropoff_datetime'] = pd.DatetimeIndex(df_DO['tpep_dropoff_datetime'])\n",
    "df_DO = df_DO.set_index('tpep_dropoff_datetime')\n",
    "\n",
    "df_DO = df_DO.groupby([pd.Grouper(level=0, freq='H'),'DOLocationID'])\n",
    "df_DO_N = df_DO['DOLocationID'].agg(\"size\")\n",
    "df_DO_N.to_csv('DO_heatmap.csv')\n"
   ]
  },
  {
   "cell_type": "markdown",
   "metadata": {},
   "source": [
    "## caculate popular ride\n",
    "We find out the unique ride with in a day, and get the rank accouding to the accumulate data."
   ]
  },
  {
   "cell_type": "code",
   "execution_count": 26,
   "metadata": {},
   "outputs": [],
   "source": [
    "df_ride = df\n",
    "df_ride['tpep_pickup_datetime'] = pd.DatetimeIndex(df_ride['tpep_pickup_datetime'])\n",
    "df_ride = df_ride.set_index('tpep_pickup_datetime')\n",
    "pair = []\n",
    "df_ride = df_ride[['PULocationID', 'DOLocationID']]\n",
    "\n",
    "for i in range(len(df_ride[\"PULocationID\"])):\n",
    "    tuple_t = (df_ride[\"PULocationID\"][i],df_ride[\"DOLocationID\"][i])\n",
    "    #print(tuple_t)\n",
    "    pair.append(tuple_t)\n",
    "    \n",
    "#print(pair)"
   ]
  },
  {
   "cell_type": "code",
   "execution_count": 7,
   "metadata": {},
   "outputs": [
    {
     "name": "stdout",
     "output_type": "stream",
     "text": [
      "10790\n"
     ]
    }
   ],
   "source": [
    "unique_pair = set(pair)\n",
    "print(len(unique_pair))"
   ]
  },
  {
   "cell_type": "code",
   "execution_count": 8,
   "metadata": {},
   "outputs": [],
   "source": [
    "import operator\n",
    "unique_pair_num = dict()\n",
    "for i in pair:\n",
    "    if not (i in unique_pair_num):\n",
    "        unique_pair_num[i]=1\n",
    "    else:\n",
    "        unique_pair_num[i] +=1\n",
    "sorted_x = sorted(unique_pair_num.items(), key=operator.itemgetter(1))"
   ]
  },
  {
   "cell_type": "code",
   "execution_count": 16,
   "metadata": {},
   "outputs": [],
   "source": [
    "#print(sorted_x)"
   ]
  },
  {
   "cell_type": "code",
   "execution_count": 10,
   "metadata": {},
   "outputs": [
    {
     "name": "stdout",
     "output_type": "stream",
     "text": [
      "244825\n"
     ]
    }
   ],
   "source": [
    "#print(len(pair))"
   ]
  },
  {
   "cell_type": "markdown",
   "metadata": {},
   "source": [
    "## ranking of pickup and dropoff data\n",
    "We calculate the total number of pickup/dropoff within each hour.Once we have this data, we can have the ranking of pickup/dropoff and generate the heat map."
   ]
  },
  {
   "cell_type": "code",
   "execution_count": 27,
   "metadata": {},
   "outputs": [
    {
     "name": "stderr",
     "output_type": "stream",
     "text": [
      "/anaconda3/lib/python3.7/site-packages/ipykernel_launcher.py:3: SettingWithCopyWarning:\n",
      "\n",
      "\n",
      "A value is trying to be set on a copy of a slice from a DataFrame.\n",
      "Try using .loc[row_indexer,col_indexer] = value instead\n",
      "\n",
      "See the caveats in the documentation: http://pandas.pydata.org/pandas-docs/stable/user_guide/indexing.html#returning-a-view-versus-a-copy\n",
      "\n",
      "/anaconda3/lib/python3.7/site-packages/ipykernel_launcher.py:7: FutureWarning:\n",
      "\n",
      "The signature of `Series.to_csv` was aligned to that of `DataFrame.to_csv`, and argument 'header' will change its default value from False to True: please pass an explicit value to suppress this warning.\n",
      "\n",
      "/anaconda3/lib/python3.7/site-packages/ipykernel_launcher.py:11: SettingWithCopyWarning:\n",
      "\n",
      "\n",
      "A value is trying to be set on a copy of a slice from a DataFrame.\n",
      "Try using .loc[row_indexer,col_indexer] = value instead\n",
      "\n",
      "See the caveats in the documentation: http://pandas.pydata.org/pandas-docs/stable/user_guide/indexing.html#returning-a-view-versus-a-copy\n",
      "\n",
      "/anaconda3/lib/python3.7/site-packages/ipykernel_launcher.py:16: FutureWarning:\n",
      "\n",
      "The signature of `Series.to_csv` was aligned to that of `DataFrame.to_csv`, and argument 'header' will change its default value from False to True: please pass an explicit value to suppress this warning.\n",
      "\n"
     ]
    }
   ],
   "source": [
    "#inbound_route - drop off at airpoart(137)\n",
    "df_IN = df.loc[df['DOLocationID'] == 230]\n",
    "df_IN['tpep_dropoff_datetime'] = pd.DatetimeIndex(df_IN['tpep_dropoff_datetime'])\n",
    "df_IN = df_IN.set_index('tpep_dropoff_datetime')\n",
    "df_IN = df_IN.groupby([pd.Grouper(level=0, freq='H'),'PULocationID'])\n",
    "df_IN_N = df_IN['PULocationID'].agg(\"size\")\n",
    "df_IN_N.to_csv('DO_230_heatmap.csv')\n",
    "\n",
    "#outbound_route - pick up at airpoart(137)\n",
    "df_OUT = df.loc[df['PULocationID'] == 79]\n",
    "df_OUT['tpep_pickup_datetime'] = pd.DatetimeIndex(df_OUT['tpep_pickup_datetime'])\n",
    "df_OUT = df_OUT.set_index('tpep_pickup_datetime')\n",
    "df_OUT = df_OUT.groupby([pd.Grouper(level=0, freq='H'),'DOLocationID'])\n",
    "df_OUT_N = df_OUT['DOLocationID'].agg(\"size\")\n",
    "#print(df_OUT_N)\n",
    "df_OUT_N.to_csv('PU_79_heatmap.csv')\n"
   ]
  },
  {
   "cell_type": "markdown",
   "metadata": {},
   "source": [
    "## Get detail data within each ride\n",
    "We have <br>\n",
    "1.cost of time of each ride: differne of end timestamp and start timestamp <br>\n",
    "2.speed data : distance / time <br>\n",
    "3.efficiency : income / time <br>\n",
    "4.income <br>\n",
    "5.tip <br>\n",
    "6.amount of ride <br>\n",
    "\n",
    "All the data are output into .csv format, and import to rhino/grasshopper ploting the graph\n"
   ]
  },
  {
   "cell_type": "code",
   "execution_count": 20,
   "metadata": {},
   "outputs": [
    {
     "name": "stderr",
     "output_type": "stream",
     "text": [
      "/anaconda3/lib/python3.7/site-packages/ipykernel_launcher.py:41: FutureWarning:\n",
      "\n",
      "The signature of `Series.to_csv` was aligned to that of `DataFrame.to_csv`, and argument 'header' will change its default value from False to True: please pass an explicit value to suppress this warning.\n",
      "\n",
      "/anaconda3/lib/python3.7/site-packages/ipykernel_launcher.py:42: FutureWarning:\n",
      "\n",
      "The signature of `Series.to_csv` was aligned to that of `DataFrame.to_csv`, and argument 'header' will change its default value from False to True: please pass an explicit value to suppress this warning.\n",
      "\n",
      "/anaconda3/lib/python3.7/site-packages/ipykernel_launcher.py:43: FutureWarning:\n",
      "\n",
      "The signature of `Series.to_csv` was aligned to that of `DataFrame.to_csv`, and argument 'header' will change its default value from False to True: please pass an explicit value to suppress this warning.\n",
      "\n",
      "/anaconda3/lib/python3.7/site-packages/ipykernel_launcher.py:44: FutureWarning:\n",
      "\n",
      "The signature of `Series.to_csv` was aligned to that of `DataFrame.to_csv`, and argument 'header' will change its default value from False to True: please pass an explicit value to suppress this warning.\n",
      "\n",
      "/anaconda3/lib/python3.7/site-packages/ipykernel_launcher.py:45: FutureWarning:\n",
      "\n",
      "The signature of `Series.to_csv` was aligned to that of `DataFrame.to_csv`, and argument 'header' will change its default value from False to True: please pass an explicit value to suppress this warning.\n",
      "\n",
      "/anaconda3/lib/python3.7/site-packages/ipykernel_launcher.py:46: FutureWarning:\n",
      "\n",
      "The signature of `Series.to_csv` was aligned to that of `DataFrame.to_csv`, and argument 'header' will change its default value from False to True: please pass an explicit value to suppress this warning.\n",
      "\n"
     ]
    }
   ],
   "source": [
    "df= pd.read_csv('0601.csv', low_memory=False)\n",
    "df = df.reset_index()\n",
    "\n",
    "df['str'] = df['tpep_pickup_datetime'].values.astype('datetime64[m]')\n",
    "df['end'] = df['tpep_dropoff_datetime'].values.astype('datetime64[m]')\n",
    "df['dur'] = df['end'] - df['str']\n",
    "\n",
    "df['dur'] = df['dur'] / np.timedelta64(1, 'm')\n",
    "df = df.loc[(df['dur'] > 0)]\n",
    "       \n",
    "#print(df['dur'])\n",
    "df['spd'] = round(df['trip_distance'].div(df['dur']),2)\n",
    "df['efi'] = round(df['fare_amount'].div(df['dur']),2)\n",
    "df = df.dropna()\n",
    "\n",
    "df['tpep_pickup_datetime'] = pd.DatetimeIndex(df['tpep_pickup_datetime'])\n",
    "df = df.set_index('tpep_pickup_datetime')\n",
    "\n",
    "\n",
    "\n",
    "#264 - 264\n",
    "#df.loc[(df['column_name'] >= A) & (df['column_name'] <= B)]\n",
    "df_264_264 = df.loc[(df['PULocationID'] == 264) & (df['DOLocationID'] == 264)]\n",
    "df_zeroIncome = df.loc[(df['dur'] == 0) ]\n",
    "#print(df_zeroIncome.count)\n",
    "#print(df_264_264.count)\n",
    "df_264_264 = df_264_264.groupby(pd.Grouper(level=0, freq='H'))\n",
    "#print(df_264_264.head(10))\n",
    "\n",
    "\n",
    "\n",
    "df_dur = df_264_264['dur'].agg(\"mean\")\n",
    "df_spd = df_264_264['spd'].agg(\"mean\")\n",
    "df_efi = df_264_264['efi'].agg(\"mean\")\n",
    "df_tip = df_264_264['tip_amount'].agg(\"mean\")\n",
    "df_fare = df_264_264['total_amount'].agg(\"mean\")\n",
    "df_dist = df_264_264['trip_distance'].agg(\"mean\")\n",
    "\n",
    "#print(df_efi.head(10))\n",
    "\n",
    "df_tip.to_csv('output_tip.csv')\n",
    "df_dur.to_csv('output_time.csv')\n",
    "df_efi.to_csv('output_efi.csv')\n",
    "df_spd.to_csv('output_spd.csv')\n",
    "df_fare.to_csv('output_income.csv')\n",
    "df_dist.to_csv('output_dist.csv')\n",
    "\n"
   ]
  },
  {
   "cell_type": "markdown",
   "metadata": {},
   "source": [
    "## Write json file "
   ]
  },
  {
   "cell_type": "code",
   "execution_count": 28,
   "metadata": {},
   "outputs": [
    {
     "ename": "IndentationError",
     "evalue": "expected an indented block (<ipython-input-28-cdcbcb2c7c00>, line 2)",
     "output_type": "error",
     "traceback": [
      "\u001b[0;36m  File \u001b[0;32m\"<ipython-input-28-cdcbcb2c7c00>\"\u001b[0;36m, line \u001b[0;32m2\u001b[0m\n\u001b[0;31m    json.dump(pu_loc, outfile)\u001b[0m\n\u001b[0m       ^\u001b[0m\n\u001b[0;31mIndentationError\u001b[0m\u001b[0;31m:\u001b[0m expected an indented block\n"
     ]
    }
   ],
   "source": [
    "with open('pick_up.json', 'w') as outfile:\n",
    "json.dump(pu_loc, outfile)\n",
    "\n",
    "#write drop_off json file\n",
    "with open('drop_off.json', 'w') as outfile:\n",
    "json.dump(do_loc, outfile)\n",
    "\n",
    "with open('tipping_all.json', 'w') as outfile:\n",
    "json.dump(do_tip_relation, outfile)"
   ]
  }
 ],
 "metadata": {
  "kernelspec": {
   "display_name": "Python 3",
   "language": "python",
   "name": "python3"
  },
  "language_info": {
   "codemirror_mode": {
    "name": "ipython",
    "version": 3
   },
   "file_extension": ".py",
   "mimetype": "text/x-python",
   "name": "python",
   "nbconvert_exporter": "python",
   "pygments_lexer": "ipython3",
   "version": "3.7.1"
  }
 },
 "nbformat": 4,
 "nbformat_minor": 2
}
